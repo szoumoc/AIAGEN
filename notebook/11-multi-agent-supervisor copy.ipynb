{
 "cells": [
  {
   "cell_type": "code",
   "execution_count": null,
   "id": "f6ee8086",
   "metadata": {},
   "outputs": [],
   "source": [
    "import setup\n",
    "setup.init()"
   ]
  },
  {
   "cell_type": "code",
   "execution_count": null,
   "id": "1b308ec8",
   "metadata": {},
   "outputs": [],
   "source": [
    "from ai.supervisor import get_supervisor"
   ]
  },
  {
   "cell_type": "code",
   "execution_count": null,
   "id": "c1adf504",
   "metadata": {},
   "outputs": [],
   "source": [
    "from langgraph.checkpoint.memory import InMemorySaver\n",
    "\n",
    "checkpointer = InMemorySaver()"
   ]
  },
  {
   "cell_type": "code",
   "execution_count": null,
   "id": "714c84d1",
   "metadata": {},
   "outputs": [],
   "source": [
    "supervisor = get_supervisor(model=\"gemini-2.5-flash\", checkpointer=checkpointer)"
   ]
  },
  {
   "cell_type": "code",
   "execution_count": null,
   "id": "fb544223",
   "metadata": {},
   "outputs": [],
   "source": [
    "import uuid\n",
    "\n",
    "\n",
    "config = {\n",
    "    'configurable': {\n",
    "        'user_id': 1,  # Can be integer or string\n",
    "        'thread_id': str(uuid.uuid4())\n",
    "    }\n",
    "}\n",
    "\n",
    "\n",
    "response = supervisor.invoke(\n",
    "    {\"messages\": [\n",
    "        # {\"role\": \"system\", \"content\": \"You are a helpful document management assistant.\"},\n",
    "        {\"role\": \"user\", \"content\": \"what are my recent documents\"}\n",
    "    ]},\n",
    "    config\n",
    ")\n"
   ]
  },
  {
   "cell_type": "code",
   "execution_count": null,
   "id": "6b2e19b9",
   "metadata": {},
   "outputs": [],
   "source": [
    "response['messages'][-1].content"
   ]
  },
  {
   "cell_type": "code",
   "execution_count": null,
   "id": "71cb4b99",
   "metadata": {},
   "outputs": [],
   "source": [
    "\n",
    "response = supervisor.invoke(\n",
    "    {\"messages\": [\n",
    "        {\"role\": \"user\", \"content\": \"Change one of the documents with a duplicate title from a movie related to Mission Impossible\"}\n",
    "    ]},\n",
    "    config\n",
    ")\n",
    "response['messages'][-1].content\n"
   ]
  },
  {
   "cell_type": "code",
   "execution_count": null,
   "id": "756f1372",
   "metadata": {},
   "outputs": [],
   "source": [
    "response = supervisor.invoke(\n",
    "    {\"messages\": [\n",
    "        {\"role\": \"user\", \"content\": \"4\"}\n",
    "    ]},\n",
    "    config\n",
    ")\n",
    "response['messages'][-1].content"
   ]
  },
  {
   "cell_type": "code",
   "execution_count": null,
   "id": "bbfb424d",
   "metadata": {},
   "outputs": [],
   "source": [
    "response = supervisor.invoke(\n",
    "    {\"messages\": [\n",
    "        {\"role\": \"user\", \"content\": \"Use the title from the movie and contents too\"}\n",
    "    ]},\n",
    "    config\n",
    ")\n",
    "response['messages'][-1].content"
   ]
  }
 ],
 "metadata": {
  "kernelspec": {
   "display_name": "Python 3",
   "language": "python",
   "name": "python3"
  },
  "language_info": {
   "codemirror_mode": {
    "name": "ipython",
    "version": 3
   },
   "file_extension": ".py",
   "mimetype": "text/x-python",
   "name": "python",
   "nbconvert_exporter": "python",
   "pygments_lexer": "ipython3",
   "version": "3.12.6"
  }
 },
 "nbformat": 4,
 "nbformat_minor": 5
}
