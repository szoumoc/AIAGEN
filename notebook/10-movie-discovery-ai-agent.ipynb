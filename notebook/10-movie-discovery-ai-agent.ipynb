{
 "cells": [
  {
   "cell_type": "code",
   "execution_count": 1,
   "id": "f6ee8086",
   "metadata": {},
   "outputs": [],
   "source": [
    "import setup\n",
    "setup.init()"
   ]
  },
  {
   "cell_type": "code",
   "execution_count": 2,
   "id": "1b308ec8",
   "metadata": {},
   "outputs": [],
   "source": [
    "from ai.agents import get_movie_discovery_agent"
   ]
  },
  {
   "cell_type": "code",
   "execution_count": 3,
   "id": "c1adf504",
   "metadata": {},
   "outputs": [],
   "source": [
    "from langgraph.checkpoint.memory import InMemorySaver\n",
    "\n",
    "checkpointer = InMemorySaver()"
   ]
  },
  {
   "cell_type": "code",
   "execution_count": 4,
   "id": "714c84d1",
   "metadata": {},
   "outputs": [],
   "source": [
    "agent = get_movie_discovery_agent(model=\"gemini-2.5-flash\", checkpointer=checkpointer)"
   ]
  },
  {
   "cell_type": "code",
   "execution_count": 5,
   "id": "fb544223",
   "metadata": {},
   "outputs": [
    {
     "name": "stdout",
     "output_type": "stream",
     "text": [
      "Searching with user 1\n"
     ]
    }
   ],
   "source": [
    "import uuid\n",
    "\n",
    "\n",
    "config = {\n",
    "    'configurable': {\n",
    "        'user_id': 1,  # Can be integer or string\n",
    "        'thread_id': str(uuid.uuid4())\n",
    "    }\n",
    "}\n",
    "\n",
    "\n",
    "response = agent.invoke(\n",
    "    {\"messages\": [\n",
    "        # {\"role\": \"system\", \"content\": \"You are a helpful document management assistant.\"},\n",
    "        {\"role\": \"user\", \"content\": \"tell me about the movie first mission impossible movie\"},\n",
    "    ]},\n",
    "    config\n",
    ")\n"
   ]
  },
  {
   "cell_type": "code",
   "execution_count": 6,
   "id": "6b2e19b9",
   "metadata": {},
   "outputs": [
    {
     "data": {
      "text/plain": [
       "\"The first Mission: Impossible movie, released on May 22, 1996, is about Ethan Hunt, the leader of an espionage team. When his operation goes wrong and he's framed as a mole within the CIA, he must uncover the real double agent to clear his name.\""
      ]
     },
     "execution_count": 6,
     "metadata": {},
     "output_type": "execute_result"
    }
   ],
   "source": [
    "response['messages'][-1].content"
   ]
  },
  {
   "cell_type": "code",
   "execution_count": 7,
   "id": "71cb4b99",
   "metadata": {},
   "outputs": [
    {
     "data": {
      "text/plain": [
       "\"I'm sorry, I cannot check for duplicate documents. I can only list them and retrieve their details.\""
      ]
     },
     "execution_count": 7,
     "metadata": {},
     "output_type": "execute_result"
    }
   ],
   "source": [
    "\n",
    "response = agent.invoke(\n",
    "    {\"messages\": [\n",
    "        {\"role\": \"user\", \"content\": \"Are there duplicates?\"}\n",
    "    ]},\n",
    "    config\n",
    ")\n",
    "response['messages'][-1].content\n"
   ]
  }
 ],
 "metadata": {
  "kernelspec": {
   "display_name": "Python 3",
   "language": "python",
   "name": "python3"
  },
  "language_info": {
   "codemirror_mode": {
    "name": "ipython",
    "version": 3
   },
   "file_extension": ".py",
   "mimetype": "text/x-python",
   "name": "python",
   "nbconvert_exporter": "python",
   "pygments_lexer": "ipython3",
   "version": "3.12.6"
  }
 },
 "nbformat": 4,
 "nbformat_minor": 5
}
