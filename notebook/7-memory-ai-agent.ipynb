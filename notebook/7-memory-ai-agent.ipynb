{
 "cells": [
  {
   "cell_type": "code",
   "execution_count": 1,
   "id": "f6ee8086",
   "metadata": {},
   "outputs": [],
   "source": [
    "import setup\n",
    "setup.init()"
   ]
  },
  {
   "cell_type": "code",
   "execution_count": 2,
   "id": "1b308ec8",
   "metadata": {},
   "outputs": [],
   "source": [
    "from ai.agents import get_document_agent"
   ]
  },
  {
   "cell_type": "code",
   "execution_count": 3,
   "id": "c1adf504",
   "metadata": {},
   "outputs": [],
   "source": [
    "from langgraph.checkpoint.memory import InMemorySaver\n",
    "\n",
    "checkpointer = InMemorySaver()"
   ]
  },
  {
   "cell_type": "code",
   "execution_count": 4,
   "id": "714c84d1",
   "metadata": {},
   "outputs": [],
   "source": [
    "agent = get_document_agent(model=\"gemini-2.5-flash\", checkpointer=checkpointer)"
   ]
  },
  {
   "cell_type": "code",
   "execution_count": 5,
   "id": "fb544223",
   "metadata": {},
   "outputs": [
    {
     "name": "stdout",
     "output_type": "stream",
     "text": [
      "{'tags': [], 'metadata': {'user_id': 1, 'thread_id': 'e189a6a3-318f-49cc-8f4e-04294897a5fa', 'langgraph_step': 2, 'langgraph_node': 'tools', 'langgraph_triggers': ('__pregel_push',), 'langgraph_path': ('__pregel_push', 0, False), 'langgraph_checkpoint_ns': 'tools:9887eb40-6e3b-73fe-03aa-d437b72e59de', 'checkpoint_ns': 'tools:9887eb40-6e3b-73fe-03aa-d437b72e59de'}, 'callbacks': <langchain_core.callbacks.manager.CallbackManager object at 0x0000017873F82FF0>, 'recursion_limit': 25, 'configurable': {'user_id': 1, 'thread_id': 'e189a6a3-318f-49cc-8f4e-04294897a5fa', '__pregel_task_id': '9887eb40-6e3b-73fe-03aa-d437b72e59de', '__pregel_send': <built-in method extend of collections.deque object at 0x0000017873F5E980>, '__pregel_read': functools.partial(<function local_read at 0x0000017871AD3060>, PregelScratchpad(step=2, stop=25, call_counter=<langgraph.pregel.algo.LazyAtomicCounter object at 0x0000017873F83010>, interrupt_counter=<langgraph.pregel.algo.LazyAtomicCounter object at 0x0000017873F830D0>, get_null_resume=<function _scratchpad.<locals>.get_null_resume at 0x00000178740BC400>, resume=[], subgraph_counter=<langgraph.pregel.algo.LazyAtomicCounter object at 0x0000017873F83070>), {'messages': <langgraph.channels.binop.BinaryOperatorAggregate object at 0x00000178740B4400>, '__start__': <langgraph.channels.ephemeral_value.EphemeralValue object at 0x00000178740B4D40>, '__pregel_tasks': <langgraph.channels.topic.Topic object at 0x00000178740B4D80>, 'branch:to:agent': <langgraph.channels.ephemeral_value.EphemeralValue object at 0x00000178740B4E00>, 'branch:to:tools': <langgraph.channels.ephemeral_value.EphemeralValue object at 0x00000178740B4E40>}, {'is_last_step': <class 'langgraph.managed.is_last_step.IsLastStepManager'>, 'remaining_steps': <class 'langgraph.managed.is_last_step.RemainingStepsManager'>}, PregelTaskWrites(path=('__pregel_push', 0, False), name='tools', writes=deque([]), triggers=('__pregel_push',))), '__pregel_store': None, '__pregel_checkpointer': <langgraph.checkpoint.memory.InMemorySaver object at 0x0000017873800890>, 'checkpoint_map': {'': '1f064986-16f3-6ad4-8001-598dfad7a79d'}, 'checkpoint_id': None, 'checkpoint_ns': 'tools:9887eb40-6e3b-73fe-03aa-d437b72e59de', '__pregel_scratchpad': PregelScratchpad(step=2, stop=25, call_counter=<langgraph.pregel.algo.LazyAtomicCounter object at 0x0000017873F83010>, interrupt_counter=<langgraph.pregel.algo.LazyAtomicCounter object at 0x0000017873F830D0>, get_null_resume=<function _scratchpad.<locals>.get_null_resume at 0x00000178740BC400>, resume=[], subgraph_counter=<langgraph.pregel.algo.LazyAtomicCounter object at 0x0000017873F83070>), '__pregel_previous': None, '__pregel_call': functools.partial(<function _call at 0x0000017871B0C720>, <weakref at 0x00000178740F43B0; to 'PregelExecutableTask' at 0x0000017873EF3C80>, retry_policy=None, futures=<weakref at 0x00000178740F4400; to 'FuturesDict' at 0x00000178740F4370>, schedule_task=<bound method SyncPregelLoop.accept_push of <langgraph.pregel.loop.SyncPregelLoop object at 0x0000017873F824E0>>, submit=<weakref at 0x00000178740B0B50; to 'BackgroundExecutor' at 0x00000178735B4680>)}}\n"
     ]
    }
   ],
   "source": [
    "import uuid\n",
    "\n",
    "\n",
    "config = {\n",
    "    'configurable': {\n",
    "        'user_id': 1,  # Can be integer or string\n",
    "        'thread_id': str(uuid.uuid4())\n",
    "    }\n",
    "}\n",
    "\n",
    "\n",
    "response = agent.invoke(\n",
    "    {\"messages\": [\n",
    "        # {\"role\": \"system\", \"content\": \"You are a helpful document management assistant.\"},\n",
    "        {\"role\": \"user\", \"content\": \"List my recent documents\"}\n",
    "    ]},\n",
    "    config\n",
    ")\n"
   ]
  },
  {
   "cell_type": "code",
   "execution_count": 6,
   "id": "6b2e19b9",
   "metadata": {},
   "outputs": [
    {
     "data": {
      "text/plain": [
       "'I found 2 documents: \"Title\" (ID: 5) and \"Title\" (ID: 4).'"
      ]
     },
     "execution_count": 6,
     "metadata": {},
     "output_type": "execute_result"
    }
   ],
   "source": [
    "response['messages'][-1].content"
   ]
  },
  {
   "cell_type": "code",
   "execution_count": 7,
   "id": "71cb4b99",
   "metadata": {},
   "outputs": [
    {
     "data": {
      "text/plain": [
       "\"I'm sorry, I cannot check for duplicate documents. I can only list them and retrieve their details.\""
      ]
     },
     "execution_count": 7,
     "metadata": {},
     "output_type": "execute_result"
    }
   ],
   "source": [
    "\n",
    "response = agent.invoke(\n",
    "    {\"messages\": [\n",
    "        {\"role\": \"user\", \"content\": \"Are there duplicates?\"}\n",
    "    ]},\n",
    "    config\n",
    ")\n",
    "response['messages'][-1].content\n"
   ]
  }
 ],
 "metadata": {
  "kernelspec": {
   "display_name": "Python 3",
   "language": "python",
   "name": "python3"
  },
  "language_info": {
   "codemirror_mode": {
    "name": "ipython",
    "version": 3
   },
   "file_extension": ".py",
   "mimetype": "text/x-python",
   "name": "python",
   "nbconvert_exporter": "python",
   "pygments_lexer": "ipython3",
   "version": "3.12.6"
  }
 },
 "nbformat": 4,
 "nbformat_minor": 5
}
