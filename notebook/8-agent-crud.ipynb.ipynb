{
 "cells": [
  {
   "cell_type": "code",
   "execution_count": 1,
   "id": "f6ee8086",
   "metadata": {},
   "outputs": [],
   "source": [
    "import setup\n",
    "setup.init()"
   ]
  },
  {
   "cell_type": "code",
   "execution_count": 2,
   "id": "1b308ec8",
   "metadata": {},
   "outputs": [],
   "source": [
    "from ai.agents import get_document_agent"
   ]
  },
  {
   "cell_type": "code",
   "execution_count": 3,
   "id": "c1adf504",
   "metadata": {},
   "outputs": [],
   "source": [
    "from langgraph.checkpoint.memory import InMemorySaver\n",
    "\n",
    "checkpointer = InMemorySaver()"
   ]
  },
  {
   "cell_type": "code",
   "execution_count": 4,
   "id": "714c84d1",
   "metadata": {},
   "outputs": [],
   "source": [
    "agent = get_document_agent(model=\"gemini-2.5-flash\", checkpointer=checkpointer)"
   ]
  },
  {
   "cell_type": "code",
   "execution_count": 5,
   "id": "fb544223",
   "metadata": {},
   "outputs": [],
   "source": [
    "import uuid\n",
    "\n",
    "\n",
    "config = {\n",
    "    'configurable': {\n",
    "        'user_id': 1,  # Can be integer or string\n",
    "        'thread_id': str(uuid.uuid4())\n",
    "    }\n",
    "}\n",
    "\n"
   ]
  },
  {
   "cell_type": "code",
   "execution_count": 6,
   "id": "c584db8f",
   "metadata": {},
   "outputs": [],
   "source": [
    "response = agent.invoke(\n",
    "    {\"messages\": [\n",
    "        # {\"role\": \"system\", \"content\": \"You are a helpful document management assistant.\"},\n",
    "        {\"role\": \"user\", \"content\": \"Remove the inception summary document.\"},\n",
    "    ]},\n",
    "    config\n",
    ")"
   ]
  },
  {
   "cell_type": "code",
   "execution_count": 7,
   "id": "6b2e19b9",
   "metadata": {},
   "outputs": [
    {
     "data": {
      "text/plain": [
       "\"I need the document ID to delete the inception summary document. If you don't have the ID, I can help you find it by searching for the document first.\""
      ]
     },
     "execution_count": 7,
     "metadata": {},
     "output_type": "execute_result"
    }
   ],
   "source": [
    "response['messages'][-1].content"
   ]
  },
  {
   "cell_type": "code",
   "execution_count": 8,
   "id": "a3637c7e",
   "metadata": {},
   "outputs": [
    {
     "name": "stdout",
     "output_type": "stream",
     "text": [
      "{'tags': [], 'metadata': {'user_id': 1, 'thread_id': 'a72c7e4f-caf1-4729-94c9-7743ba19a7f3', 'langgraph_step': 5, 'langgraph_node': 'tools', 'langgraph_triggers': ('__pregel_push',), 'langgraph_path': ('__pregel_push', 0, False), 'langgraph_checkpoint_ns': 'tools:c8df6ab0-fa5d-e09f-4bd3-bbe112d1d1b0', 'checkpoint_ns': 'tools:c8df6ab0-fa5d-e09f-4bd3-bbe112d1d1b0'}, 'callbacks': <langchain_core.callbacks.manager.CallbackManager object at 0x00000236D5FB3E60>, 'recursion_limit': 25, 'configurable': {'user_id': 1, 'thread_id': 'a72c7e4f-caf1-4729-94c9-7743ba19a7f3', '__pregel_task_id': 'c8df6ab0-fa5d-e09f-4bd3-bbe112d1d1b0', '__pregel_send': <built-in method extend of collections.deque object at 0x00000236D94A5F30>, '__pregel_read': functools.partial(<function local_read at 0x00000236D7042FC0>, PregelScratchpad(step=5, stop=28, call_counter=<langgraph.pregel.algo.LazyAtomicCounter object at 0x00000236D9626AD0>, interrupt_counter=<langgraph.pregel.algo.LazyAtomicCounter object at 0x00000236D96265F0>, get_null_resume=<function _scratchpad.<locals>.get_null_resume at 0x00000236D9618A40>, resume=[], subgraph_counter=<langgraph.pregel.algo.LazyAtomicCounter object at 0x00000236D9626440>), {'messages': <langgraph.channels.binop.BinaryOperatorAggregate object at 0x00000236D95F0080>, '__start__': <langgraph.channels.ephemeral_value.EphemeralValue object at 0x00000236D9637F00>, '__pregel_tasks': <langgraph.channels.topic.Topic object at 0x00000236D9438400>, 'branch:to:agent': <langgraph.channels.ephemeral_value.EphemeralValue object at 0x00000236D94396C0>, 'branch:to:tools': <langgraph.channels.ephemeral_value.EphemeralValue object at 0x00000236D943BF40>}, {'is_last_step': <class 'langgraph.managed.is_last_step.IsLastStepManager'>, 'remaining_steps': <class 'langgraph.managed.is_last_step.RemainingStepsManager'>}, PregelTaskWrites(path=('__pregel_push', 0, False), name='tools', writes=deque([]), triggers=('__pregel_push',))), '__pregel_store': None, '__pregel_checkpointer': <langgraph.checkpoint.memory.InMemorySaver object at 0x00000236D7093AA0>, 'checkpoint_map': {'': '1f065362-d99e-6804-8004-7bb952f40cd1'}, 'checkpoint_id': None, 'checkpoint_ns': 'tools:c8df6ab0-fa5d-e09f-4bd3-bbe112d1d1b0', '__pregel_scratchpad': PregelScratchpad(step=5, stop=28, call_counter=<langgraph.pregel.algo.LazyAtomicCounter object at 0x00000236D9626AD0>, interrupt_counter=<langgraph.pregel.algo.LazyAtomicCounter object at 0x00000236D96265F0>, get_null_resume=<function _scratchpad.<locals>.get_null_resume at 0x00000236D9618A40>, resume=[], subgraph_counter=<langgraph.pregel.algo.LazyAtomicCounter object at 0x00000236D9626440>), '__pregel_previous': None, '__pregel_call': functools.partial(<function _call at 0x00000236D707C680>, <weakref at 0x00000236D965A9D0; to 'PregelExecutableTask' at 0x00000236D9433F50>, retry_policy=None, futures=<weakref at 0x00000236D965AA20; to 'FuturesDict' at 0x00000236D965A5D0>, schedule_task=<bound method SyncPregelLoop.accept_push of <langgraph.pregel.loop.SyncPregelLoop object at 0x00000236D94C2150>>, submit=<weakref at 0x00000236D964A450; to 'BackgroundExecutor' at 0x00000236D94C3B00>)}}\n"
     ]
    }
   ],
   "source": [
    "response = agent.invoke(\n",
    "    {\"messages\": [\n",
    "        # {\"role\": \"system\", \"content\": \"You are a helpful document management assistant.\"},\n",
    "        {\"role\": \"user\", \"content\": \"yes search\"},\n",
    "    ]},\n",
    "    config\n",
    ")\n"
   ]
  },
  {
   "cell_type": "code",
   "execution_count": 9,
   "id": "6d209818",
   "metadata": {},
   "outputs": [
    {
     "data": {
      "text/plain": [
       "'I couldn\\'t find any documents matching \"inception summary document\". Please make sure the title is correct or provide more keywords from the document content to help me find it.'"
      ]
     },
     "execution_count": 9,
     "metadata": {},
     "output_type": "execute_result"
    }
   ],
   "source": [
    "\n",
    "response['messages'][-1].content"
   ]
  },
  {
   "cell_type": "code",
   "execution_count": 10,
   "id": "b080bcb9",
   "metadata": {},
   "outputs": [],
   "source": [
    "response = agent.invoke(\n",
    "    {\"messages\": [\n",
    "        # {\"role\": \"system\", \"content\": \"You are a helpful document management assistant.\"},\n",
    "        {\"role\": \"user\", \"content\": \"id is 6\"},\n",
    "    ]},\n",
    "    config\n",
    ")"
   ]
  },
  {
   "cell_type": "code",
   "execution_count": 11,
   "id": "aa0ee044",
   "metadata": {},
   "outputs": [
    {
     "data": {
      "text/plain": [
       "'The document with ID 6 has been successfully deleted.'"
      ]
     },
     "execution_count": 11,
     "metadata": {},
     "output_type": "execute_result"
    }
   ],
   "source": [
    "response['messages'][-1].content"
   ]
  }
 ],
 "metadata": {
  "kernelspec": {
   "display_name": "Python 3",
   "language": "python",
   "name": "python3"
  },
  "language_info": {
   "codemirror_mode": {
    "name": "ipython",
    "version": 3
   },
   "file_extension": ".py",
   "mimetype": "text/x-python",
   "name": "python",
   "nbconvert_exporter": "python",
   "pygments_lexer": "ipython3",
   "version": "3.12.6"
  }
 },
 "nbformat": 4,
 "nbformat_minor": 5
}
