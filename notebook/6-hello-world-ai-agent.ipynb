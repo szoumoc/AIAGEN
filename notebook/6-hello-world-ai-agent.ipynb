{
 "cells": [
  {
   "cell_type": "code",
   "execution_count": 1,
   "id": "f6ee8086",
   "metadata": {},
   "outputs": [],
   "source": [
    "import setup\n",
    "setup.init()"
   ]
  },
  {
   "cell_type": "code",
   "execution_count": 2,
   "id": "1b308ec8",
   "metadata": {},
   "outputs": [],
   "source": [
    "from ai.agents import get_document_agent"
   ]
  },
  {
   "cell_type": "code",
   "execution_count": 3,
   "id": "714c84d1",
   "metadata": {},
   "outputs": [],
   "source": [
    "agent = get_document_agent()"
   ]
  },
  {
   "cell_type": "code",
   "execution_count": 15,
   "id": "fb544223",
   "metadata": {},
   "outputs": [
    {
     "name": "stdout",
     "output_type": "stream",
     "text": [
      "{'tags': [], 'metadata': {'user_id': 1, 'thread_id': '00ec398d-4215-46c2-9b8c-eba55eef392f', 'langgraph_step': 2, 'langgraph_node': 'tools', 'langgraph_triggers': ('__pregel_push',), 'langgraph_path': ('__pregel_push', 0, False), 'langgraph_checkpoint_ns': 'tools:0fced796-a00b-383c-cfce-8d6744cb8625', 'checkpoint_ns': 'tools:0fced796-a00b-383c-cfce-8d6744cb8625'}, 'callbacks': <langchain_core.callbacks.manager.CallbackManager object at 0x0000017A0AD0A2A0>, 'recursion_limit': 25, 'configurable': {'user_id': 1, 'thread_id': '00ec398d-4215-46c2-9b8c-eba55eef392f', '__pregel_task_id': '0fced796-a00b-383c-cfce-8d6744cb8625', '__pregel_send': <built-in method extend of collections.deque object at 0x0000017A0AD9BA60>, '__pregel_read': functools.partial(<function local_read at 0x0000017A04E92FC0>, PregelScratchpad(step=2, stop=25, call_counter=<langgraph.pregel.algo.LazyAtomicCounter object at 0x0000017A0AB3BD60>, interrupt_counter=<langgraph.pregel.algo.LazyAtomicCounter object at 0x0000017A0AB38FA0>, get_null_resume=<function _scratchpad.<locals>.get_null_resume at 0x0000017A0AD5AC00>, resume=[], subgraph_counter=<langgraph.pregel.algo.LazyAtomicCounter object at 0x0000017A0AB39F60>), {'messages': <langgraph.channels.binop.BinaryOperatorAggregate object at 0x0000017A0A2F6EC0>, '__start__': <langgraph.channels.ephemeral_value.EphemeralValue object at 0x0000017A0A2F57C0>, '__pregel_tasks': <langgraph.channels.topic.Topic object at 0x0000017A0A2F43C0>, 'branch:to:agent': <langgraph.channels.ephemeral_value.EphemeralValue object at 0x0000017A0A2F58C0>, 'branch:to:tools': <langgraph.channels.ephemeral_value.EphemeralValue object at 0x0000017A0A2F5F40>}, {'is_last_step': <class 'langgraph.managed.is_last_step.IsLastStepManager'>, 'remaining_steps': <class 'langgraph.managed.is_last_step.RemainingStepsManager'>}, PregelTaskWrites(path=('__pregel_push', 0, False), name='tools', writes=deque([]), triggers=('__pregel_push',))), '__pregel_store': None, '__pregel_checkpointer': None, 'checkpoint_map': {'': '1f064957-e907-651c-8001-705931773f10'}, 'checkpoint_id': None, 'checkpoint_ns': 'tools:0fced796-a00b-383c-cfce-8d6744cb8625', '__pregel_scratchpad': PregelScratchpad(step=2, stop=25, call_counter=<langgraph.pregel.algo.LazyAtomicCounter object at 0x0000017A0AB3BD60>, interrupt_counter=<langgraph.pregel.algo.LazyAtomicCounter object at 0x0000017A0AB38FA0>, get_null_resume=<function _scratchpad.<locals>.get_null_resume at 0x0000017A0AD5AC00>, resume=[], subgraph_counter=<langgraph.pregel.algo.LazyAtomicCounter object at 0x0000017A0AB39F60>), '__pregel_previous': None, '__pregel_call': functools.partial(<function _call at 0x0000017A04ECC680>, <weakref at 0x0000017A0AD50400; to 'PregelExecutableTask' at 0x0000017A0AA87650>, retry_policy=None, futures=<weakref at 0x0000017A0AD53470; to 'FuturesDict' at 0x0000017A0AD53390>, schedule_task=<bound method SyncPregelLoop.accept_push of <langgraph.pregel.loop.SyncPregelLoop object at 0x0000017A0AB2D250>>, submit=<weakref at 0x0000017A0AD83250; to 'BackgroundExecutor' at 0x0000017A0ABB3290>)}}\n"
     ]
    }
   ],
   "source": [
    "import uuid\n",
    "\n",
    "\n",
    "config = {\n",
    "    'configurable': {\n",
    "        'user_id': 1,  # Can be integer or string\n",
    "        'thread_id': str(uuid.uuid4())\n",
    "    }\n",
    "}\n",
    "\n",
    "\n",
    "response = agent.invoke(\n",
    "    {\"messages\": [\n",
    "        # {\"role\": \"system\", \"content\": \"You are a helpful document management assistant.\"},\n",
    "        {\"role\": \"user\", \"content\": \"List my recent documents\"}\n",
    "    ]},\n",
    "    config=config\n",
    ")\n"
   ]
  },
  {
   "cell_type": "code",
   "execution_count": 16,
   "id": "71cb4b99",
   "metadata": {},
   "outputs": [
    {
     "name": "stdout",
     "output_type": "stream",
     "text": [
      "List my recent documents\n",
      "\n",
      "[{\"id\": 5, \"title\": \"Title\"}, {\"id\": 4, \"title\": \"Title\"}]\n",
      "Here are your 2 most recent documents:\n",
      "Title (ID: 5)\n",
      "Title (ID: 4)\n"
     ]
    }
   ],
   "source": [
    "for msg in response['messages']:\n",
    "    print(msg.content)"
   ]
  }
 ],
 "metadata": {
  "kernelspec": {
   "display_name": "Python 3",
   "language": "python",
   "name": "python3"
  },
  "language_info": {
   "codemirror_mode": {
    "name": "ipython",
    "version": 3
   },
   "file_extension": ".py",
   "mimetype": "text/x-python",
   "name": "python",
   "nbconvert_exporter": "python",
   "pygments_lexer": "ipython3",
   "version": "3.12.6"
  }
 },
 "nbformat": 4,
 "nbformat_minor": 5
}
