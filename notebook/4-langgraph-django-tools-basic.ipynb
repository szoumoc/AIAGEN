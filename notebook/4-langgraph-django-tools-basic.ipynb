{
 "cells": [
  {
   "cell_type": "code",
   "execution_count": 1,
   "id": "a2bd9122",
   "metadata": {},
   "outputs": [],
   "source": [
    "import setup\n",
    "setup.init()"
   ]
  },
  {
   "cell_type": "code",
   "execution_count": 2,
   "id": "e15b5c5e",
   "metadata": {},
   "outputs": [],
   "source": [
    "from ai.tools import list_documents, get_document\n"
   ]
  },
  {
   "cell_type": "code",
   "execution_count": 9,
   "id": "a85031db",
   "metadata": {},
   "outputs": [],
   "source": [
    "config = {\n",
    "    \"user_id\": 1,  # Example user ID\n",
    "}  "
   ]
  },
  {
   "cell_type": "code",
   "execution_count": 10,
   "id": "c19b23cd",
   "metadata": {},
   "outputs": [
    {
     "name": "stdout",
     "output_type": "stream",
     "text": [
      "{'tags': [], 'metadata': {'user_id': 1}, 'callbacks': None, 'recursion_limit': 25, 'configurable': {'user_id': 1}}\n",
      "[{'id': 4, 'title': 'Title'}, {'id': 5, 'title': 'Title'}]\n"
     ]
    }
   ],
   "source": [
    "listdoc =list_documents.invoke(None, config)\n",
    "print(listdoc)"
   ]
  },
  {
   "cell_type": "code",
   "execution_count": 8,
   "id": "d8a3ed1a",
   "metadata": {},
   "outputs": [
    {
     "data": {
      "text/plain": [
       "{'id': 4, 'title': 'Title', 'content': ''}"
      ]
     },
     "execution_count": 8,
     "metadata": {},
     "output_type": "execute_result"
    }
   ],
   "source": [
    "get_document.invoke({\"document_id\": 4}, config)"
   ]
  }
 ],
 "metadata": {
  "kernelspec": {
   "display_name": "Python 3",
   "language": "python",
   "name": "python3"
  },
  "language_info": {
   "codemirror_mode": {
    "name": "ipython",
    "version": 3
   },
   "file_extension": ".py",
   "mimetype": "text/x-python",
   "name": "python",
   "nbconvert_exporter": "python",
   "pygments_lexer": "ipython3",
   "version": "3.12.6"
  }
 },
 "nbformat": 4,
 "nbformat_minor": 5
}
