{
 "cells": [
  {
   "cell_type": "code",
   "execution_count": 1,
   "id": "c4485537",
   "metadata": {},
   "outputs": [],
   "source": [
    "import setup\n",
    "setup.init()\n"
   ]
  },
  {
   "cell_type": "code",
   "execution_count": 2,
   "id": "79521d30",
   "metadata": {},
   "outputs": [
    {
     "data": {
      "text/plain": [
       "<QuerySet [<User: soumo>, <User: staff>, <User: BobDylan>]>"
      ]
     },
     "execution_count": 2,
     "metadata": {},
     "output_type": "execute_result"
    }
   ],
   "source": [
    "from django.contrib.auth import get_user_model\n",
    "\n",
    "User = get_user_model()\n",
    "User.objects.all()"
   ]
  },
  {
   "cell_type": "code",
   "execution_count": 9,
   "id": "a927b7a4",
   "metadata": {},
   "outputs": [
    {
     "data": {
      "text/plain": [
       "True"
      ]
     },
     "execution_count": 9,
     "metadata": {},
     "output_type": "execute_result"
    }
   ],
   "source": [
    "# user_obj = User.objects.create(\n",
    "#    username=\"ethan_hunt\"\n",
    "# )\n",
    "\n",
    "user_obj = User.objects.get(\n",
    "    username = \"BobDylan\"\n",
    ")\n",
    "user_obj.is_staff=True\n",
    "user_obj.set_password(\"abc123\")\n",
    "user_obj.save()\n",
    "user_obj.is_staff"
   ]
  },
  {
   "cell_type": "code",
   "execution_count": null,
   "id": "4f9bf467",
   "metadata": {},
   "outputs": [],
   "source": []
  },
  {
   "cell_type": "code",
   "execution_count": 10,
   "id": "c9634fb3",
   "metadata": {},
   "outputs": [
    {
     "data": {
      "text/plain": [
       "<User: BobDylan>"
      ]
     },
     "execution_count": 10,
     "metadata": {},
     "output_type": "execute_result"
    }
   ],
   "source": [
    "# detail -> get\n",
    "user_obj = User.objects.last()\n",
    "user_obj"
   ]
  },
  {
   "cell_type": "code",
   "execution_count": 11,
   "id": "9c903596",
   "metadata": {},
   "outputs": [],
   "source": [
    "# create or update\n",
    "# user_obj.save() # pre_save -> post_save\n",
    "# delete\n",
    "# user_obj.delete()"
   ]
  },
  {
   "cell_type": "code",
   "execution_count": 5,
   "id": "5f2fb01e",
   "metadata": {},
   "outputs": [
    {
     "data": {
      "text/plain": [
       "<Documents: hello world>"
      ]
     },
     "execution_count": 5,
     "metadata": {},
     "output_type": "execute_result"
    }
   ],
   "source": [
    "from documents.models import Documents\n",
    "\n",
    "doc_obj = Documents(\n",
    "    owner=user_obj,\n",
    "    title=\"hello world\",\n",
    "    \n",
    ")\n",
    "doc_obj "
   ]
  },
  {
   "cell_type": "code",
   "execution_count": null,
   "id": "9236e8f7",
   "metadata": {},
   "outputs": [],
   "source": []
  },
  {
   "cell_type": "code",
   "execution_count": 6,
   "id": "8304c2a6",
   "metadata": {},
   "outputs": [
    {
     "data": {
      "text/plain": [
       "<Documents: Title>"
      ]
     },
     "execution_count": 6,
     "metadata": {},
     "output_type": "execute_result"
    }
   ],
   "source": [
    "Documents.objects.create(owner=user_obj)"
   ]
  },
  {
   "cell_type": "code",
   "execution_count": 7,
   "id": "5768aeb3",
   "metadata": {},
   "outputs": [
    {
     "data": {
      "text/plain": [
       "3"
      ]
     },
     "execution_count": 7,
     "metadata": {},
     "output_type": "execute_result"
    }
   ],
   "source": [
    "user_obj.id"
   ]
  },
  {
   "cell_type": "code",
   "execution_count": 8,
   "id": "2285bbf1",
   "metadata": {},
   "outputs": [
    {
     "data": {
      "text/plain": [
       "<Documents: Title>"
      ]
     },
     "execution_count": 8,
     "metadata": {},
     "output_type": "execute_result"
    }
   ],
   "source": [
    "Documents.objects.create(owner_id=2)"
   ]
  },
  {
   "cell_type": "code",
   "execution_count": 15,
   "id": "831f90df",
   "metadata": {},
   "outputs": [
    {
     "data": {
      "text/plain": [
       "<User: soumo>"
      ]
     },
     "execution_count": 15,
     "metadata": {},
     "output_type": "execute_result"
    }
   ],
   "source": [
    "super_u = User.objects.filter(is_superuser=True).first()\n",
    "super_u "
   ]
  },
  {
   "cell_type": "code",
   "execution_count": 16,
   "id": "7c14f9b7",
   "metadata": {},
   "outputs": [
    {
     "data": {
      "text/plain": [
       "<QuerySet []>"
      ]
     },
     "execution_count": 16,
     "metadata": {},
     "output_type": "execute_result"
    }
   ],
   "source": [
    "super_u.user_permissions.all()"
   ]
  },
  {
   "cell_type": "code",
   "execution_count": 17,
   "id": "4d9c0011",
   "metadata": {},
   "outputs": [
    {
     "data": {
      "text/plain": [
       "<User: BobDylan>"
      ]
     },
     "execution_count": 17,
     "metadata": {},
     "output_type": "execute_result"
    }
   ],
   "source": [
    "staff_u = User.objects.filter(is_staff=True, is_superuser=False).first()\n",
    "staff_u"
   ]
  },
  {
   "cell_type": "code",
   "execution_count": 19,
   "id": "493df6dd",
   "metadata": {},
   "outputs": [
    {
     "name": "stdout",
     "output_type": "stream",
     "text": [
      "view_logentry\n",
      "view_group\n",
      "view_permission\n",
      "view_user\n",
      "view_contenttype\n",
      "view_documents\n",
      "view_session\n"
     ]
    }
   ],
   "source": [
    "from django.contrib.auth.models import Permission\n",
    "\n",
    "perms_qs = Permission.objects.filter(codename__icontains=\"VIEW\")\n",
    "for obj in perms_qs:\n",
    "    print(obj.codename)\n",
    "    staff_u.user_permissions.add(obj)\n",
    "    "
   ]
  },
  {
   "cell_type": "code",
   "execution_count": 22,
   "id": "b35f7fac",
   "metadata": {},
   "outputs": [
    {
     "data": {
      "text/plain": [
       "<QuerySet [<Permission: Documents | documents | Can add documents>, <Permission: Documents | documents | Can change documents>, <Permission: Documents | documents | Can delete documents>, <Permission: Documents | documents | Can view documents>]>"
      ]
     },
     "execution_count": 22,
     "metadata": {},
     "output_type": "execute_result"
    }
   ],
   "source": [
    "doc_qs = Permission.objects.filter(codename__endswith=\"documents\")\n",
    "doc_qs"
   ]
  },
  {
   "cell_type": "code",
   "execution_count": 25,
   "id": "8433f5ad",
   "metadata": {},
   "outputs": [
    {
     "data": {
      "text/plain": [
       "<QuerySet [<Permission: Administration | log entry | Can view log entry>, <Permission: Authentication and Authorization | group | Can view group>, <Permission: Authentication and Authorization | permission | Can view permission>, <Permission: Authentication and Authorization | user | Can view user>, <Permission: Content Types | content type | Can view content type>, <Permission: Documents | documents | Can add documents>, <Permission: Documents | documents | Can change documents>, <Permission: Documents | documents | Can view documents>, <Permission: Sessions | session | Can view session>]>"
      ]
     },
     "execution_count": 25,
     "metadata": {},
     "output_type": "execute_result"
    }
   ],
   "source": [
    "new_perms = doc_qs | perms_qs\n",
    "new_perms = new_perms.exclude(codename__icontains=\"delete\")\n",
    "new_perms\n"
   ]
  },
  {
   "cell_type": "code",
   "execution_count": 26,
   "id": "d398f91a",
   "metadata": {},
   "outputs": [],
   "source": [
    "staff_u.user_permissions.set(new_perms)"
   ]
  }
 ],
 "metadata": {
  "kernelspec": {
   "display_name": "Python 3",
   "language": "python",
   "name": "python3"
  },
  "language_info": {
   "codemirror_mode": {
    "name": "ipython",
    "version": 3
   },
   "file_extension": ".py",
   "mimetype": "text/x-python",
   "name": "python",
   "nbconvert_exporter": "python",
   "pygments_lexer": "ipython3",
   "version": "3.12.6"
  }
 },
 "nbformat": 4,
 "nbformat_minor": 5
}
