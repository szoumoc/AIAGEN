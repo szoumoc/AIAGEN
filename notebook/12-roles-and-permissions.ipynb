{
 "cells": [
  {
   "cell_type": "code",
   "execution_count": 1,
   "id": "f6ee8086",
   "metadata": {},
   "outputs": [],
   "source": [
    "import setup\n",
    "setup.init()"
   ]
  },
  {
   "cell_type": "code",
   "execution_count": 2,
   "id": "1c1db062",
   "metadata": {},
   "outputs": [],
   "source": [
    "from mypermit import permit_client\n",
    "\n",
    "\n",
    "permit = permit_client"
   ]
  },
  {
   "cell_type": "code",
   "execution_count": 3,
   "id": "3a47dbb9",
   "metadata": {},
   "outputs": [
    {
     "data": {
      "text/plain": [
       "PaginatedResultUserRead(data=[UserRead(key='1', id=UUID('6b40ddfa-306b-4f68-9d83-c1cdf3ebaf1c'), organization_id=UUID('c148024e-3c94-40a0-b3a7-c2ed580c1935'), project_id=UUID('0651285d-07cb-4459-9a3b-a7d77da6c2b6'), environment_id=UUID('4783bfa6-5e6c-427d-9118-646f2eb01edf'), associated_tenants=[UserInTenant(tenant='default', roles=['admin'], status=<UserStatus.pending: 'pending'>, resource_instance_roles=[])], roles=[UserRole(role='admin', tenant='default')], created_at=datetime.datetime(2025, 7, 22, 5, 26, 41, tzinfo=datetime.timezone.utc), updated_at=datetime.datetime(2025, 7, 22, 5, 30, 43, tzinfo=datetime.timezone.utc), email=None, first_name='soumo', last_name=None, attributes=None), UserRead(key='2', id=UUID('aaed34be-2e28-425f-b281-f6c03334e60b'), organization_id=UUID('c148024e-3c94-40a0-b3a7-c2ed580c1935'), project_id=UUID('0651285d-07cb-4459-9a3b-a7d77da6c2b6'), environment_id=UUID('4783bfa6-5e6c-427d-9118-646f2eb01edf'), associated_tenants=[], roles=[], created_at=datetime.datetime(2025, 7, 22, 5, 26, 41, tzinfo=datetime.timezone.utc), updated_at=datetime.datetime(2025, 7, 22, 5, 30, 43, tzinfo=datetime.timezone.utc), email=None, first_name='staff', last_name=None, attributes=None), UserRead(key='3', id=UUID('e96eee58-939f-4356-b3d8-a28ba5f4a18b'), organization_id=UUID('c148024e-3c94-40a0-b3a7-c2ed580c1935'), project_id=UUID('0651285d-07cb-4459-9a3b-a7d77da6c2b6'), environment_id=UUID('4783bfa6-5e6c-427d-9118-646f2eb01edf'), associated_tenants=[], roles=[], created_at=datetime.datetime(2025, 7, 22, 5, 24, 54, tzinfo=datetime.timezone.utc), updated_at=datetime.datetime(2025, 7, 22, 5, 30, 44, tzinfo=datetime.timezone.utc), email=None, first_name='BobDylan', last_name=None, attributes=None)], total_count=3, page_count=3)"
      ]
     },
     "execution_count": 3,
     "metadata": {},
     "output_type": "execute_result"
    }
   ],
   "source": [
    "await permit.api.users.list()"
   ]
  },
  {
   "cell_type": "code",
   "execution_count": 4,
   "id": "c6f04f35",
   "metadata": {},
   "outputs": [],
   "source": [
    "from django.contrib.auth import get_user_model\n",
    "\n",
    "User = get_user_model()"
   ]
  },
  {
   "cell_type": "code",
   "execution_count": 5,
   "id": "724ff389",
   "metadata": {},
   "outputs": [
    {
     "name": "stdout",
     "output_type": "stream",
     "text": [
      "key='1' id=UUID('6b40ddfa-306b-4f68-9d83-c1cdf3ebaf1c') organization_id=UUID('c148024e-3c94-40a0-b3a7-c2ed580c1935') project_id=UUID('0651285d-07cb-4459-9a3b-a7d77da6c2b6') environment_id=UUID('4783bfa6-5e6c-427d-9118-646f2eb01edf') associated_tenants=[UserInTenant(tenant='default', roles=['admin'], status=<UserStatus.pending: 'pending'>, resource_instance_roles=[])] roles=[UserRole(role='admin', tenant='default')] created_at=datetime.datetime(2025, 7, 22, 5, 26, 41, tzinfo=datetime.timezone.utc) updated_at=datetime.datetime(2025, 7, 22, 5, 30, 43, tzinfo=datetime.timezone.utc) email=None first_name='soumo' last_name=None attributes=None\n",
      "key='2' id=UUID('aaed34be-2e28-425f-b281-f6c03334e60b') organization_id=UUID('c148024e-3c94-40a0-b3a7-c2ed580c1935') project_id=UUID('0651285d-07cb-4459-9a3b-a7d77da6c2b6') environment_id=UUID('4783bfa6-5e6c-427d-9118-646f2eb01edf') associated_tenants=[] roles=[] created_at=datetime.datetime(2025, 7, 22, 5, 26, 41, tzinfo=datetime.timezone.utc) updated_at=datetime.datetime(2025, 7, 22, 5, 30, 43, tzinfo=datetime.timezone.utc) email=None first_name='staff' last_name=None attributes=None\n",
      "key='3' id=UUID('e96eee58-939f-4356-b3d8-a28ba5f4a18b') organization_id=UUID('c148024e-3c94-40a0-b3a7-c2ed580c1935') project_id=UUID('0651285d-07cb-4459-9a3b-a7d77da6c2b6') environment_id=UUID('4783bfa6-5e6c-427d-9118-646f2eb01edf') associated_tenants=[] roles=[] created_at=datetime.datetime(2025, 7, 22, 5, 24, 54, tzinfo=datetime.timezone.utc) updated_at=datetime.datetime(2025, 7, 22, 5, 30, 44, tzinfo=datetime.timezone.utc) email=None first_name='BobDylan' last_name=None attributes=None\n"
     ]
    }
   ],
   "source": [
    "for u in User.objects.all():\n",
    "    user_data = {\n",
    "        \"key\": f\"{u.id}\",\n",
    "        \"first_name\": f\"{u.username}\",\n",
    "    }\n",
    "    response = await permit.api.users.sync(user_data)\n",
    "    print(response)\n",
    "\n"
   ]
  },
  {
   "cell_type": "code",
   "execution_count": 6,
   "id": "2b5e3bef",
   "metadata": {},
   "outputs": [
    {
     "data": {
      "text/plain": [
       "True"
      ]
     },
     "execution_count": 6,
     "metadata": {},
     "output_type": "execute_result"
    }
   ],
   "source": [
    "await permit.check(\"1\", \"read\", \"document\")"
   ]
  },
  {
   "cell_type": "code",
   "execution_count": 7,
   "id": "9808f931",
   "metadata": {},
   "outputs": [],
   "source": [
    "resources = [\n",
    "    {\n",
    "        \"name\": \"Documents\",\n",
    "        \"key\": \"document\",\n",
    "        \"actions\": {\n",
    "            \"read\": {},\n",
    "            \"create\": {},\n",
    "            \"update\": {},\n",
    "            \"delete\": {},\n",
    "        }\n",
    "    },\n",
    "    {\n",
    "        \"name\": \"Movie Discovery Resource\",\n",
    "        \"key\": \"movie_disovery\",\n",
    "        \"actions\": {\n",
    "            \"search\": {},\n",
    "            \"detail\": {},\n",
    "        }\n",
    "    }\n",
    "]"
   ]
  },
  {
   "cell_type": "code",
   "execution_count": 8,
   "id": "9ecb4d44",
   "metadata": {},
   "outputs": [],
   "source": [
    "from permit import PermitApiError\n",
    "\n",
    "async def get_or_create_resource(resource_data:dict):\n",
    "    resource_key = resource_data.get('key')\n",
    "    try:\n",
    "        _resource = await permit.api.resources.get(resource_key)\n",
    "    except PermitApiError as e:\n",
    "        if e.status_code == 404:\n",
    "            _resource = await permit.api.resources.create(resource_data)\n",
    "        else:\n",
    "            raise e\n",
    "    return _resource"
   ]
  },
  {
   "cell_type": "code",
   "execution_count": 9,
   "id": "0a93ba90",
   "metadata": {},
   "outputs": [
    {
     "name": "stdout",
     "output_type": "stream",
     "text": [
      "key='document' id=UUID('fb6d4cab-aa72-4131-a641-bff349ac1944') organization_id=UUID('c148024e-3c94-40a0-b3a7-c2ed580c1935') project_id=UUID('0651285d-07cb-4459-9a3b-a7d77da6c2b6') environment_id=UUID('4783bfa6-5e6c-427d-9118-646f2eb01edf') created_at=datetime.datetime(2025, 7, 22, 6, 44, 52, tzinfo=datetime.timezone.utc) updated_at=datetime.datetime(2025, 7, 22, 6, 44, 52, tzinfo=datetime.timezone.utc) name='Documents' urn='prn:soumo-789:default:document' description=None actions={'read': ActionBlockRead(name='read', description=None, attributes=None, v1compat_path=None, v1compat_name=None, id=UUID('6444e189-1f74-4e9b-88ee-f6ddfc11b470'), key='read'), 'create': ActionBlockRead(name='create', description=None, attributes=None, v1compat_path=None, v1compat_name=None, id=UUID('529e2530-79ea-42d9-8ae8-85aeb9741a97'), key='create'), 'update': ActionBlockRead(name='update', description=None, attributes=None, v1compat_path=None, v1compat_name=None, id=UUID('35ef32ba-b242-4039-a0f4-49ee1994cb31'), key='update'), 'delete': ActionBlockRead(name='delete', description=None, attributes=None, v1compat_path=None, v1compat_name=None, id=UUID('bb0838eb-cd1f-4224-aa67-58af0d814576'), key='delete')} type_attributes=None attributes={} roles={} relations={} v1compat_path=None v1compat_type=None v1compat_name=None action_groups={}\n",
      "key='movie_disovery' id=UUID('45506196-44a3-4c23-bc13-5416aa8af41e') organization_id=UUID('c148024e-3c94-40a0-b3a7-c2ed580c1935') project_id=UUID('0651285d-07cb-4459-9a3b-a7d77da6c2b6') environment_id=UUID('4783bfa6-5e6c-427d-9118-646f2eb01edf') created_at=datetime.datetime(2025, 7, 22, 6, 44, 55, tzinfo=datetime.timezone.utc) updated_at=datetime.datetime(2025, 7, 22, 6, 44, 55, tzinfo=datetime.timezone.utc) name='Movie Discovery Resource' urn='prn:soumo-789:default:movie_disovery' description=None actions={'search': ActionBlockRead(name='search', description=None, attributes=None, v1compat_path=None, v1compat_name=None, id=UUID('c52ed82e-fca7-4e1d-b053-a7a81bd9c619'), key='search'), 'detail': ActionBlockRead(name='detail', description=None, attributes=None, v1compat_path=None, v1compat_name=None, id=UUID('35a114d9-7c41-4329-95ee-19b1ef530800'), key='detail')} type_attributes=None attributes={} roles={} relations={} v1compat_path=None v1compat_type=None v1compat_name=None action_groups={}\n"
     ]
    }
   ],
   "source": [
    "for resource_data in resources:\n",
    "    response = await get_or_create_resource(resource_data)\n",
    "    print(response)"
   ]
  },
  {
   "cell_type": "code",
   "execution_count": 10,
   "id": "993cea5d",
   "metadata": {},
   "outputs": [],
   "source": [
    "# read_only_permissions = [\n",
    "#     \"document:read\",\n",
    "#     \"movie_disovery:search\",\n",
    "#     \"movie_disovery:detail\",\n",
    "# ]\n"
   ]
  },
  {
   "cell_type": "code",
   "execution_count": 11,
   "id": "156213ee",
   "metadata": {},
   "outputs": [],
   "source": [
    "roles= [\n",
    "    {\n",
    "        \"name\": \"Manager\",\n",
    "        \"key\": \"manager\",\n",
    "        \"permissions\": {\n",
    "            \"document:read\",\n",
    "            \"document:create\",\n",
    "            \"document:update\",\n",
    "            \"document:delete\",\n",
    "            \"movie_disovery:search\",\n",
    "            \"movie_disovery:detail\",\n",
    "        }\n",
    "    },\n",
    "    {\n",
    "        \"name\": \"Viewer\",\n",
    "        \"key\": \"viewer\",\n",
    "        \"permissions\":  [\n",
    "            \"document:read\",\n",
    "            \"movie_disovery:search\",\n",
    "            \"movie_disovery:detail\"\n",
    "        ]\n",
    "    }\n",
    "]"
   ]
  },
  {
   "cell_type": "code",
   "execution_count": 12,
   "id": "97ea4078",
   "metadata": {},
   "outputs": [],
   "source": [
    "from permit import PermitApiError\n",
    "\n",
    "async def get_or_create_role(role_data:dict):\n",
    "    _key = role_data.get('key')\n",
    "    try:\n",
    "        _resource = await permit.api.roles.get(_key)\n",
    "    except PermitApiError as e:\n",
    "        if e.status_code == 404:\n",
    "            _resource = await permit.api.roles.create(role_data)\n",
    "        else:\n",
    "            raise e\n",
    "    return _resource"
   ]
  },
  {
   "cell_type": "code",
   "execution_count": 13,
   "id": "6a67ba4c",
   "metadata": {},
   "outputs": [
    {
     "name": "stdout",
     "output_type": "stream",
     "text": [
      "name='Manager' description=None permissions=['document:create', 'movie_disovery:detail', 'movie_disovery:search', 'document:read', 'document:update'] attributes={} extends=[] granted_to=None v1compat_settings=None v1compat_attributes=None key='manager' id=UUID('0906b770-1c8b-453b-8904-4bb4b7242108') organization_id=UUID('c148024e-3c94-40a0-b3a7-c2ed580c1935') project_id=UUID('0651285d-07cb-4459-9a3b-a7d77da6c2b6') environment_id=UUID('4783bfa6-5e6c-427d-9118-646f2eb01edf') created_at=datetime.datetime(2025, 7, 22, 6, 48, 48, tzinfo=datetime.timezone.utc) updated_at=datetime.datetime(2025, 7, 22, 6, 48, 48, tzinfo=datetime.timezone.utc)\n",
      "name='Viewer' description=None permissions=['document:read', 'movie_disovery:search', 'movie_disovery:detail'] attributes={} extends=[] granted_to=None v1compat_settings=None v1compat_attributes=None key='viewer' id=UUID('7cc65f0f-f5cc-418d-9252-8d90b7c9f7f4') organization_id=UUID('c148024e-3c94-40a0-b3a7-c2ed580c1935') project_id=UUID('0651285d-07cb-4459-9a3b-a7d77da6c2b6') environment_id=UUID('4783bfa6-5e6c-427d-9118-646f2eb01edf') created_at=datetime.datetime(2025, 7, 22, 6, 52, 47, tzinfo=datetime.timezone.utc) updated_at=datetime.datetime(2025, 7, 22, 6, 52, 47, tzinfo=datetime.timezone.utc)\n"
     ]
    }
   ],
   "source": [
    "for role_data in roles:\n",
    "    response = await get_or_create_role(role_data)\n",
    "    print(response)"
   ]
  },
  {
   "cell_type": "code",
   "execution_count": 14,
   "id": "770176ac",
   "metadata": {},
   "outputs": [],
   "source": [
    "# await permit.api.roles.delete(\"viewer\")"
   ]
  },
  {
   "cell_type": "code",
   "execution_count": 15,
   "id": "1fcf46e6",
   "metadata": {},
   "outputs": [],
   "source": [
    "\n",
    "user = User.objects.all().first()"
   ]
  },
  {
   "cell_type": "code",
   "execution_count": 16,
   "id": "501a2dfe",
   "metadata": {},
   "outputs": [
    {
     "data": {
      "text/plain": [
       "<User: soumo>"
      ]
     },
     "execution_count": 16,
     "metadata": {},
     "output_type": "execute_result"
    }
   ],
   "source": [
    "user"
   ]
  },
  {
   "cell_type": "code",
   "execution_count": 17,
   "id": "2ead935b",
   "metadata": {},
   "outputs": [
    {
     "data": {
      "text/plain": [
       "1"
      ]
     },
     "execution_count": 17,
     "metadata": {},
     "output_type": "execute_result"
    }
   ],
   "source": [
    "user.id"
   ]
  },
  {
   "cell_type": "code",
   "execution_count": 18,
   "id": "21e0ca68",
   "metadata": {},
   "outputs": [
    {
     "name": "stdout",
     "output_type": "stream",
     "text": [
      "id=UUID('bd40fea9-1c37-429a-a269-6a57d02cedfa') user='1' role='admin' tenant='default' resource_instance=None resource_instance_id=None user_id=UUID('6b40ddfa-306b-4f68-9d83-c1cdf3ebaf1c') role_id=UUID('95c8b5ca-34ff-43bb-a9ee-4d0fb002b709') tenant_id=UUID('52af0810-7663-4b92-be3e-092126518117') organization_id=UUID('c148024e-3c94-40a0-b3a7-c2ed580c1935') project_id=UUID('0651285d-07cb-4459-9a3b-a7d77da6c2b6') environment_id=UUID('4783bfa6-5e6c-427d-9118-646f2eb01edf') created_at=datetime.datetime(2025, 7, 22, 6, 56, 24, tzinfo=datetime.timezone.utc)\n"
     ]
    }
   ],
   "source": [
    "response = await permit.api.users.assign_role({\n",
    "    \"user\": f\"{user.id}\",\n",
    "    \"role\": \"admin\",\n",
    "    \"tenant\": \"default\"\n",
    "})\n",
    "print(response)"
   ]
  },
  {
   "cell_type": "code",
   "execution_count": 19,
   "id": "c4e0e5f0",
   "metadata": {},
   "outputs": [
    {
     "data": {
      "text/plain": [
       "True"
      ]
     },
     "execution_count": 19,
     "metadata": {},
     "output_type": "execute_result"
    }
   ],
   "source": [
    "await permit.check(f\"{user.id}\", \"read\", \"document\")"
   ]
  }
 ],
 "metadata": {
  "kernelspec": {
   "display_name": "Python 3",
   "language": "python",
   "name": "python3"
  },
  "language_info": {
   "codemirror_mode": {
    "name": "ipython",
    "version": 3
   },
   "file_extension": ".py",
   "mimetype": "text/x-python",
   "name": "python",
   "nbconvert_exporter": "python",
   "pygments_lexer": "ipython3",
   "version": "3.12.6"
  }
 },
 "nbformat": 4,
 "nbformat_minor": 5
}
