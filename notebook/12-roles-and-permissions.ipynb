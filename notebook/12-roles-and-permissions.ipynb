{
 "cells": [
  {
   "cell_type": "code",
   "execution_count": 1,
   "id": "f6ee8086",
   "metadata": {},
   "outputs": [],
   "source": [
    "import setup\n",
    "setup.init()"
   ]
  },
  {
   "cell_type": "code",
   "execution_count": 2,
   "id": "1c1db062",
   "metadata": {},
   "outputs": [],
   "source": [
    "from mypermit import permit_client\n",
    "\n",
    "\n",
    "permit = permit_client"
   ]
  },
  {
   "cell_type": "code",
   "execution_count": 3,
   "id": "3a47dbb9",
   "metadata": {},
   "outputs": [
    {
     "data": {
      "text/plain": [
       "PaginatedResultUserRead(data=[], total_count=0, page_count=0)"
      ]
     },
     "execution_count": 3,
     "metadata": {},
     "output_type": "execute_result"
    }
   ],
   "source": [
    "await permit.api.users.list()"
   ]
  },
  {
   "cell_type": "code",
   "execution_count": 5,
   "id": "c6f04f35",
   "metadata": {},
   "outputs": [],
   "source": [
    "from django.contrib.auth import get_user_model\n",
    "\n",
    "User = get_user_model()"
   ]
  },
  {
   "cell_type": "code",
   "execution_count": 11,
   "id": "724ff389",
   "metadata": {},
   "outputs": [
    {
     "name": "stdout",
     "output_type": "stream",
     "text": [
      "key='1' id=UUID('6b40ddfa-306b-4f68-9d83-c1cdf3ebaf1c') organization_id=UUID('c148024e-3c94-40a0-b3a7-c2ed580c1935') project_id=UUID('0651285d-07cb-4459-9a3b-a7d77da6c2b6') environment_id=UUID('4783bfa6-5e6c-427d-9118-646f2eb01edf') associated_tenants=[] roles=[] created_at=datetime.datetime(2025, 7, 22, 5, 26, 41, tzinfo=datetime.timezone.utc) updated_at=datetime.datetime(2025, 7, 22, 5, 30, 43, tzinfo=datetime.timezone.utc) email=None first_name='soumo' last_name=None attributes=None\n",
      "key='2' id=UUID('aaed34be-2e28-425f-b281-f6c03334e60b') organization_id=UUID('c148024e-3c94-40a0-b3a7-c2ed580c1935') project_id=UUID('0651285d-07cb-4459-9a3b-a7d77da6c2b6') environment_id=UUID('4783bfa6-5e6c-427d-9118-646f2eb01edf') associated_tenants=[] roles=[] created_at=datetime.datetime(2025, 7, 22, 5, 26, 41, tzinfo=datetime.timezone.utc) updated_at=datetime.datetime(2025, 7, 22, 5, 30, 43, tzinfo=datetime.timezone.utc) email=None first_name='staff' last_name=None attributes=None\n",
      "key='3' id=UUID('e96eee58-939f-4356-b3d8-a28ba5f4a18b') organization_id=UUID('c148024e-3c94-40a0-b3a7-c2ed580c1935') project_id=UUID('0651285d-07cb-4459-9a3b-a7d77da6c2b6') environment_id=UUID('4783bfa6-5e6c-427d-9118-646f2eb01edf') associated_tenants=[] roles=[] created_at=datetime.datetime(2025, 7, 22, 5, 24, 54, tzinfo=datetime.timezone.utc) updated_at=datetime.datetime(2025, 7, 22, 5, 30, 44, tzinfo=datetime.timezone.utc) email=None first_name='BobDylan' last_name=None attributes=None\n"
     ]
    }
   ],
   "source": [
    "for u in User.objects.all():\n",
    "    user_data = {\n",
    "        \"key\": f\"{u.id}\",\n",
    "        \"first_name\": f\"{u.username}\",\n",
    "    }\n",
    "    response = await permit.api.users.sync(user_data)\n",
    "    print(response)\n",
    "\n"
   ]
  },
  {
   "cell_type": "code",
   "execution_count": 3,
   "id": "9808f931",
   "metadata": {},
   "outputs": [],
   "source": [
    "resources = [\n",
    "    {\n",
    "        \"name\": \"Documents\",\n",
    "        \"key\": \"document\",\n",
    "        \"actions\": {\n",
    "            \"read\": {},\n",
    "            \"create\": {},\n",
    "            \"update\": {},\n",
    "            \"delete\": {},\n",
    "        }\n",
    "    },\n",
    "    {\n",
    "        \"name\": \"Movie Discovery Resource\",\n",
    "        \"key\": \"movie_disovery\",\n",
    "        \"actions\": {\n",
    "            \"search\": {},\n",
    "            \"detail\": {},\n",
    "        }\n",
    "    }\n",
    "]"
   ]
  },
  {
   "cell_type": "code",
   "execution_count": null,
   "id": "993cea5d",
   "metadata": {},
   "outputs": [],
   "source": [
    "# read_only_permissions = [\n",
    "#     \"document:read\",\n",
    "#     \"movie_disovery:search\",\n",
    "#     \"movie_disovery:detail\",\n",
    "# ]\n"
   ]
  },
  {
   "cell_type": "code",
   "execution_count": 7,
   "id": "156213ee",
   "metadata": {},
   "outputs": [],
   "source": [
    "roles= [\n",
    "    {\n",
    "        \"name\": \"Manager\",\n",
    "        \"key\": \"manager\",\n",
    "        \"permissions\": {\n",
    "            \"document:read\",\n",
    "            \"document:create\",\n",
    "            \"document:update\",\n",
    "            \"document:delete\",\n",
    "            \"movie_disovery:search\",\n",
    "            \"movie_disovery:detail\",\n",
    "        }\n",
    "    },\n",
    "    {\n",
    "        \"name\": \"Viewer\",\n",
    "        \"key\": \"viewer\",\n",
    "        \"permissions\": read_only_permissions,\n",
    "    }\n",
    "]"
   ]
  }
 ],
 "metadata": {
  "kernelspec": {
   "display_name": "Python 3",
   "language": "python",
   "name": "python3"
  },
  "language_info": {
   "codemirror_mode": {
    "name": "ipython",
    "version": 3
   },
   "file_extension": ".py",
   "mimetype": "text/x-python",
   "name": "python",
   "nbconvert_exporter": "python",
   "pygments_lexer": "ipython3",
   "version": "3.12.6"
  }
 },
 "nbformat": 4,
 "nbformat_minor": 5
}
